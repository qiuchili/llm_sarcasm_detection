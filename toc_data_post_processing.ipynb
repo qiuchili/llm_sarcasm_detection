{
 "cells": [
  {
   "cell_type": "code",
   "execution_count": 2,
   "metadata": {},
   "outputs": [],
   "source": [
    "import pandas as pd\n",
    "import re\n",
    "from tqdm import tqdm"
   ]
  },
  {
   "cell_type": "code",
   "execution_count": 108,
   "metadata": {},
   "outputs": [
    {
     "name": "stderr",
     "output_type": "stream",
     "text": [
      "Processing train iacv2 dataset: 100%|██████████| 5478/5478 [00:05<00:00, 1019.28it/s]\n",
      "Processing test iacv2 dataset: 100%|██████████| 1042/1042 [00:00<00:00, 1210.31it/s]\n"
     ]
    }
   ],
   "source": [
    "cue_list = ['linguistic', 'contextual', 'emotional']\n",
    "task_name = 'iacv2'\n",
    "\n",
    "code_pattern  = re.compile(r'^(?: {2,}|\\t?|)(?:def|import|from)\\b.*$', re.MULTILINE)\n",
    "code_line_pattern = re.compile(r'\\s*###?code:|###?Code:|###?Python:|Python:|code:|python:|###Input:|Input:', re.MULTILINE | re.IGNORECASE)\n",
    "\n",
    "for dataset_type in ['train','test']:\n",
    "    df = pd.read_csv(f'llama_toc_datasets_new/{dataset_type}_{task_name}_with_toc_cues.csv')\n",
    "    for i, row in tqdm(df.iterrows(), total=len(df), desc=f\"Processing {dataset_type} {task_name} dataset\"):\n",
    "        for cue_type in cue_list:\n",
    "            cue = row[cue_type + '_cue']\n",
    "\n",
    "            if isinstance(cue, str):\n",
    "                cue = re.sub(r'^\\n+', '', cue)\n",
    "                split_cue = re.split(r'\\n\\n(?!\\n)', cue)\n",
    "            else: \n",
    "                cue_new = cue \n",
    "                df.at[i, cue_type + '_cue_processed'] = cue_new  \n",
    "                continue\n",
    "\n",
    "            if len(split_cue) > 1:  \n",
    "                cue_new = split_cue[0] + '\\n\\n' + split_cue[1]\n",
    "                cue_new = code_pattern.split(cue_new)[0].strip()\n",
    "                cue_new = code_line_pattern.split(cue_new)[0].strip()\n",
    "            else:\n",
    "                cue_new = cue  \n",
    "            df.at[i, cue_type + '_cue_processed'] = cue_new  \n",
    "    \n",
    "    df.to_csv(f'llama_toc_datasets_new_processed/{dataset_type}_{task_name}_with_toc_cues_processed.csv', index=False)\n"
   ]
  }
 ],
 "metadata": {
  "kernelspec": {
   "display_name": "Python 3",
   "language": "python",
   "name": "python3"
  },
  "language_info": {
   "codemirror_mode": {
    "name": "ipython",
    "version": 3
   },
   "file_extension": ".py",
   "mimetype": "text/x-python",
   "name": "python",
   "nbconvert_exporter": "python",
   "pygments_lexer": "ipython3",
   "version": "3.10.9"
  }
 },
 "nbformat": 4,
 "nbformat_minor": 2
}
